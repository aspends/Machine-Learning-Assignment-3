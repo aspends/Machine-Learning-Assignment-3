{
 "cells": [
  {
   "cell_type": "code",
   "execution_count": 1,
   "id": "48314d83",
   "metadata": {},
   "outputs": [],
   "source": [
    "from pycocotools.coco import COCO\n",
    "from transformers import AutoImageProcessor, DefaultDataCollator, create_optimizer, TFAutoModelForImageClassification\n",
    "from datasets import load_dataset, Dataset, ClassLabel\n",
    "from tensorflow import keras\n",
    "from tensorflow.keras import layers\n",
    "from tensorflow.keras.losses import SparseCategoricalCrossentropy\n",
    "from transformers.keras_callbacks import KerasMetricCallback\n",
    "import numpy as np\n",
    "import tensorflow as tf\n",
    "import PIL as Image\n"
   ]
  },
  {
   "cell_type": "code",
   "execution_count": 2,
   "id": "6ac0c5c0",
   "metadata": {
    "slideshow": {
     "slide_type": "slide"
    }
   },
   "outputs": [
    {
     "data": {
      "application/vnd.jupyter.widget-view+json": {
       "model_id": "44d3a731fa87487ba5b43d3e41c7ea74",
       "version_major": 2,
       "version_minor": 0
      },
      "text/plain": [
       "VBox(children=(HTML(value='<center> <img\\nsrc=https://huggingface.co/front/assets/huggingface_logo-noborder.sv…"
      ]
     },
     "metadata": {},
     "output_type": "display_data"
    }
   ],
   "source": [
    "from huggingface_hub import notebook_login\n",
    "notebook_login()"
   ]
  },
  {
   "cell_type": "code",
   "execution_count": 8,
   "id": "0b274225",
   "metadata": {},
   "outputs": [
    {
     "name": "stdout",
     "output_type": "stream",
     "text": [
      "loading annotations into memory...\n",
      "Done (t=20.27s)\n",
      "creating index...\n",
      "index created!\n"
     ]
    }
   ],
   "source": [
    "coco = COCO(annotation_file=\"/Users/stashakkarainen/Desktop/annotations/instances_train2017.json\")"
   ]
  },
  {
   "cell_type": "code",
   "execution_count": 9,
   "id": "17f2f6a5",
   "metadata": {},
   "outputs": [],
   "source": [
    "cat_cat = coco.getCatIds(catNms=\"cat\")\n",
    "horse_cat = coco.getCatIds(catNms=\"horse\")\n",
    "train_cat = coco.getCatIds(catNms=\"train\")\n",
    "zebra_cat = coco.getCatIds(catNms=\"zebra\")"
   ]
  },
  {
   "cell_type": "code",
   "execution_count": 10,
   "id": "ebe288d1",
   "metadata": {},
   "outputs": [],
   "source": [
    "cat_imgs = coco.getImgIds(catIds=cat_cat)\n",
    "horse_imgs = coco.getImgIds(catIds=horse_cat)\n",
    "train_imgs = coco.getImgIds(catIds=train_cat)\n",
    "zebra_imgs = coco.getImgIds(catIds=zebra_cat)"
   ]
  },
  {
   "cell_type": "code",
   "execution_count": 11,
   "id": "72ee7f4e",
   "metadata": {},
   "outputs": [],
   "source": [
    "import random"
   ]
  },
  {
   "cell_type": "code",
   "execution_count": 12,
   "id": "68eef992",
   "metadata": {},
   "outputs": [],
   "source": [
    "random.shuffle(cat_imgs)\n",
    "cat_imgs_train = cat_imgs[:400]\n",
    "cat_imgs_test = cat_imgs[400:600]\n",
    "\n",
    "random.shuffle(horse_imgs)\n",
    "horse_imgs_train = horse_imgs[:400]\n",
    "horse_imgs_test = horse_imgs[400:600]\n",
    "\n",
    "random.shuffle(train_imgs)\n",
    "train_imgs_train = train_imgs[:400]\n",
    "train_imgs_test = train_imgs[400:600]\n",
    "\n",
    "random.shuffle(zebra_imgs)\n",
    "zebra_imgs_train = zebra_imgs[:400]\n",
    "zebra_imgs_test = zebra_imgs[400:600]"
   ]
  },
  {
   "cell_type": "code",
   "execution_count": 13,
   "id": "3900b747",
   "metadata": {},
   "outputs": [],
   "source": [
    "cat_meta_train = coco.loadImgs(ids=cat_imgs_train)\n",
    "cat_meta_test = coco.loadImgs(ids=cat_imgs_test)\n",
    "\n",
    "horse_meta_train = coco.loadImgs(ids=horse_imgs_train)\n",
    "horse_meta_test = coco.loadImgs(ids=horse_imgs_test)\n",
    "\n",
    "train_meta_train = coco.loadImgs(ids=train_imgs_train)\n",
    "train_meta_test = coco.loadImgs(ids=train_imgs_test)\n",
    "\n",
    "zebra_meta_train = coco.loadImgs(ids=zebra_imgs_train)\n",
    "zebra_meta_test = coco.loadImgs(ids=zebra_imgs_test)"
   ]
  },
  {
   "cell_type": "code",
   "execution_count": 14,
   "id": "166ecff1",
   "metadata": {},
   "outputs": [],
   "source": [
    "import matplotlib.pyplot as plt\n",
    "import matplotlib.image as mpimg"
   ]
  },
  {
   "cell_type": "code",
   "execution_count": 15,
   "id": "e3a802e1",
   "metadata": {},
   "outputs": [],
   "source": [
    "img = mpimg.imread(\"/Users/stashakkarainen/Desktop/train2017/{}\".format(zebra_meta_train[0]['file_name']))"
   ]
  },
  {
   "cell_type": "code",
   "execution_count": 16,
   "id": "ebed106e",
   "metadata": {},
   "outputs": [],
   "source": [
    "from PIL import Image"
   ]
  },
  {
   "cell_type": "code",
   "execution_count": 17,
   "id": "4adc6bc3",
   "metadata": {},
   "outputs": [],
   "source": [
    "img = Image.open(\"/Users/stashakkarainen/Desktop/train2017/{}\".format(zebra_meta_train[0]['file_name']))"
   ]
  },
  {
   "cell_type": "code",
   "execution_count": 18,
   "id": "fd511ef9",
   "metadata": {},
   "outputs": [],
   "source": [
    "def get_data(meta, datadir=\"/Users/stashakkarainen/Desktop/train2017\"):\n",
    "    return [(x['file_name'], Image.open(\"{}/{}\".format(datadir, x['file_name'])).resize((224,224))) for x in meta]"
   ]
  },
  {
   "cell_type": "code",
   "execution_count": 19,
   "id": "71c5a5a8",
   "metadata": {},
   "outputs": [],
   "source": [
    "cat_data_train = get_data(cat_meta_train)\n",
    "horse_data_train = get_data(horse_meta_train)\n",
    "cat_data_test = get_data(cat_meta_test)\n",
    "horse_data_test = get_data(horse_meta_test)\n",
    "\n",
    "train_data_train = get_data(train_meta_train)\n",
    "train_data_test = get_data(train_meta_test)\n",
    "\n",
    "zebra_data_train = get_data(zebra_meta_train)\n",
    "zebra_data_test = get_data(zebra_meta_test)"
   ]
  },
  {
   "cell_type": "code",
   "execution_count": 20,
   "id": "0e8e245f",
   "metadata": {},
   "outputs": [],
   "source": [
    "import pandas as pd"
   ]
  },
  {
   "cell_type": "code",
   "execution_count": 21,
   "id": "3f7edd32",
   "metadata": {},
   "outputs": [],
   "source": [
    "cat_labels_train = [0]*len(cat_data_train)\n",
    "cat_labels_test = [0]* len(cat_data_test)"
   ]
  },
  {
   "cell_type": "code",
   "execution_count": 22,
   "id": "681e66bc",
   "metadata": {},
   "outputs": [],
   "source": [
    "horse_labels_train = [1]*len(horse_data_train)\n",
    "horse_labels_test = [1]*len(horse_data_test)"
   ]
  },
  {
   "cell_type": "code",
   "execution_count": 23,
   "id": "964ca7e8",
   "metadata": {},
   "outputs": [],
   "source": [
    "train_labels_train = [2]*len(train_data_train)\n",
    "train_labels_test = [2]*len(train_data_test)"
   ]
  },
  {
   "cell_type": "code",
   "execution_count": 24,
   "id": "6b699edc",
   "metadata": {},
   "outputs": [],
   "source": [
    "zebra_labels_train = [3]*len(zebra_data_train)\n",
    "zebra_labels_test = [3]*len(zebra_data_test)"
   ]
  },
  {
   "cell_type": "code",
   "execution_count": 25,
   "id": "c2248401",
   "metadata": {},
   "outputs": [],
   "source": [
    "pre_train_data = cat_data_train + horse_data_train + train_data_train + zebra_data_train\n",
    "pre_train_labels = cat_labels_train + horse_labels_train + train_labels_train + zebra_labels_train\n",
    "pre_test_data = cat_data_test + horse_data_test + train_data_test + zebra_data_test\n",
    "pre_test_labels = cat_labels_test + horse_labels_test + train_labels_test + zebra_labels_test"
   ]
  },
  {
   "cell_type": "code",
   "execution_count": 26,
   "id": "b30161c4",
   "metadata": {},
   "outputs": [
    {
     "data": {
      "text/plain": [
       "('000000402448.jpg', <PIL.Image.Image image mode=RGB size=224x224>)"
      ]
     },
     "execution_count": 26,
     "metadata": {},
     "output_type": "execute_result"
    }
   ],
   "source": [
    "pre_train_data[1]"
   ]
  },
  {
   "cell_type": "code",
   "execution_count": 27,
   "id": "04f14a9a",
   "metadata": {},
   "outputs": [],
   "source": [
    "train_data = [{\"image\": image_data[1], \"label\":label} for image_data, label in zip(pre_train_data, pre_train_labels)]\n",
    "test_data = [{\"image\": image_data[1], \"label\":label} for image_data, label in zip(pre_test_data, pre_test_labels)]"
   ]
  },
  {
   "cell_type": "code",
   "execution_count": 28,
   "id": "09b38a42",
   "metadata": {},
   "outputs": [],
   "source": [
    "test_data = Dataset.from_dict({\"image\": [item[\"image\"] for item in test_data], \"label\": [item[\"label\"] for item in test_data]})\n",
    "train_data = Dataset.from_dict({\"image\": [item[\"image\"] for item in train_data], \"label\": [item[\"label\"] for item in train_data]})"
   ]
  },
  {
   "cell_type": "code",
   "execution_count": 29,
   "id": "1f42e598",
   "metadata": {},
   "outputs": [],
   "source": [
    "checkpoint = \"google/vit-base-patch16-224-in21k\"\n",
    "image_processor = AutoImageProcessor.from_pretrained(checkpoint)"
   ]
  },
  {
   "cell_type": "code",
   "execution_count": 30,
   "id": "da4cf80b",
   "metadata": {},
   "outputs": [],
   "source": [
    "size = (image_processor.size[\"height\"], image_processor.size[\"width\"])\n",
    "\n",
    "train_data_augmentation = keras.Sequential(\n",
    "    [\n",
    "        layers.RandomCrop(size[0], size[1]),\n",
    "        layers.Rescaling(scale=1.0/127.5, offset = -1),\n",
    "        layers.RandomFlip(\"horizontal\"),\n",
    "        layers.RandomRotation(factor=0.02),\n",
    "        layers.RandomZoom(height_factor=0.2, width_factor=0.2),\n",
    "    ],\n",
    "    name = \"train_data_augmentation\"\n",
    ")\n",
    "\n",
    "val_data_augmentation = keras.Sequential(\n",
    "    [\n",
    "        layers.CenterCrop(size[0], size[1]),\n",
    "        layers.Rescaling(scale = 1.0/127.5, offset = -1),\n",
    "    ],\n",
    "    name = \"val_data_augmentation\"\n",
    ")"
   ]
  },
  {
   "cell_type": "code",
   "execution_count": 31,
   "id": "d1207c96",
   "metadata": {},
   "outputs": [],
   "source": [
    "def convert_to_tf_tensor(image: Image):\n",
    "    np_image = np.array(image)\n",
    "    tf_image = tf.convert_to_tensor(np_image)\n",
    "    \n",
    "    return tf.expand_dims(tf_image, 0)\n",
    "\n",
    "def preprocess_train(example_batch):\n",
    "    images = [\n",
    "        train_data_augmentation(convert_to_tf_tensor(image.convert(\"RGB\"))) for image in example_batch[\"image\"]\n",
    "    ]\n",
    "    pixel_values = [tf.transpose(tf.squeeze(image)).numpy() for image in images]\n",
    "    \n",
    "    example_batch[\"pixel_values\"] = pixel_values\n",
    "    \n",
    "    return example_batch\n",
    "\n",
    "def preprocess_val(example_batch):\n",
    "    images = [\n",
    "        val_data_augmentation(convert_to_tf_tensor(image.convert(\"RGB\"))) for image in example_batch[\"image\"]\n",
    "    ]\n",
    "    pixel_values = [tf.transpose(tf.squeeze(image)).numpy() for image in images]\n",
    "    \n",
    "    example_batch[\"pixel_values\"] = pixel_values\n",
    "    \n",
    "    return example_batch"
   ]
  },
  {
   "cell_type": "code",
   "execution_count": 32,
   "id": "fd6d99b2",
   "metadata": {},
   "outputs": [
    {
     "data": {
      "application/vnd.jupyter.widget-view+json": {
       "model_id": "1d10c4af99ba44958d7ce3d2dd0a5970",
       "version_major": 2,
       "version_minor": 0
      },
      "text/plain": [
       "Map:   0%|          | 0/1600 [00:00<?, ? examples/s]"
      ]
     },
     "metadata": {},
     "output_type": "display_data"
    },
    {
     "data": {
      "application/vnd.jupyter.widget-view+json": {
       "model_id": "04b68aacb44b496fb7237c419e299aeb",
       "version_major": 2,
       "version_minor": 0
      },
      "text/plain": [
       "Map:   0%|          | 0/800 [00:00<?, ? examples/s]"
      ]
     },
     "metadata": {},
     "output_type": "display_data"
    }
   ],
   "source": [
    "train_data = train_data.map(preprocess_train, batched=True)\n",
    "test_data = test_data.map(preprocess_train, batched=True)"
   ]
  },
  {
   "cell_type": "code",
   "execution_count": 33,
   "id": "72651707",
   "metadata": {},
   "outputs": [],
   "source": [
    "train_data.set_transform(preprocess_train)\n",
    "test_data.set_transform(preprocess_val)"
   ]
  },
  {
   "cell_type": "code",
   "execution_count": 34,
   "id": "5c3e8afe",
   "metadata": {},
   "outputs": [
    {
     "data": {
      "text/plain": [
       "{'image': <PIL.PngImagePlugin.PngImageFile image mode=RGB size=224x224>,\n",
       " 'label': 3,\n",
       " 'pixel_values': array([[[-0.8520703 , -0.84681076, -0.869409  , ..., -0.3907639 ,\n",
       "          -0.4963658 , -0.49739212],\n",
       "         [-0.8492969 , -0.84186864, -0.8732277 , ..., -0.3498603 ,\n",
       "          -0.49605024, -0.46784753],\n",
       "         [-0.85692006, -0.85128206, -0.87978274, ..., -0.35957992,\n",
       "          -0.4845246 , -0.4411782 ],\n",
       "         ...,\n",
       "         [-0.786737  , -0.6659197 , -0.6276805 , ..., -0.4965855 ,\n",
       "          -0.48199293, -0.44523415],\n",
       "         [-0.79105484, -0.6621527 , -0.6315523 , ..., -0.47601068,\n",
       "          -0.4541387 , -0.41574433],\n",
       "         [-0.79700136, -0.6638857 , -0.62872016, ..., -0.46801355,\n",
       "          -0.4122619 , -0.2198481 ]],\n",
       " \n",
       "        [[-0.8282672 , -0.81807846, -0.8369988 , ..., -0.39741313,\n",
       "          -0.48831972, -0.48807707],\n",
       "         [-0.8312109 , -0.8191388 , -0.84503   , ..., -0.35930204,\n",
       "          -0.4856483 , -0.46814483],\n",
       "         [-0.8285102 , -0.8230071 , -0.8487871 , ..., -0.36517808,\n",
       "          -0.47121134, -0.44428107],\n",
       "         ...,\n",
       "         [-0.7484057 , -0.6069832 , -0.5652027 , ..., -0.47579396,\n",
       "          -0.45817563, -0.40495843],\n",
       "         [-0.75066686, -0.5991337 , -0.5608268 , ..., -0.45713103,\n",
       "          -0.43815315, -0.3862013 ],\n",
       "         [-0.7599002 , -0.6053723 , -0.5577897 , ..., -0.4395975 ,\n",
       "          -0.39578998, -0.2415707 ]],\n",
       " \n",
       "        [[-0.82996035, -0.82438874, -0.8446674 , ..., -0.4287066 ,\n",
       "          -0.49013892, -0.5075127 ],\n",
       "         [-0.8363444 , -0.82757324, -0.8534432 , ..., -0.40386885,\n",
       "          -0.50607973, -0.51716816],\n",
       "         [-0.8404087 , -0.8353332 , -0.8584076 , ..., -0.41155344,\n",
       "          -0.50823754, -0.5095037 ],\n",
       "         ...,\n",
       "         [-0.7325986 , -0.58133864, -0.5490793 , ..., -0.45953295,\n",
       "          -0.44414553, -0.39421123],\n",
       "         [-0.73928344, -0.57830447, -0.54669416, ..., -0.4425045 ,\n",
       "          -0.41773146, -0.37561148],\n",
       "         [-0.744645  , -0.58026516, -0.54055   , ..., -0.42344227,\n",
       "          -0.38481435, -0.26291665]]], dtype=float32)}"
      ]
     },
     "execution_count": 34,
     "metadata": {},
     "output_type": "execute_result"
    }
   ],
   "source": [
    "train_data[1400]"
   ]
  },
  {
   "cell_type": "code",
   "execution_count": 35,
   "id": "a21d074c",
   "metadata": {},
   "outputs": [],
   "source": [
    "data_collator = DefaultDataCollator(return_tensors=\"tf\")"
   ]
  },
  {
   "cell_type": "code",
   "execution_count": 36,
   "id": "4422260f",
   "metadata": {},
   "outputs": [],
   "source": [
    "import evaluate\n",
    "\n",
    "accuracy = evaluate.load(\"accuracy\")"
   ]
  },
  {
   "cell_type": "code",
   "execution_count": 37,
   "id": "8e68d41b",
   "metadata": {},
   "outputs": [],
   "source": [
    "def compute_metrics(eval_pred):\n",
    "    predictions,label = eval_pred\n",
    "    predictions = np.argmax(predictions, axis = 1)\n",
    "    \n",
    "    return accuracy.compute(predictions = predictions, references = label)"
   ]
  },
  {
   "cell_type": "code",
   "execution_count": 38,
   "id": "62398e0a",
   "metadata": {},
   "outputs": [],
   "source": [
    "batch_size = 16\n",
    "num_epochs = 5\n",
    "num_train_steps = len(train_data)*num_epochs\n",
    "learning_rate = 3e-5\n",
    "weight_decay_rate = 0.01\n",
    "\n",
    "optimizer, lr_schedule = create_optimizer(\n",
    "    init_lr = learning_rate,\n",
    "    num_train_steps = num_train_steps,\n",
    "    weight_decay_rate = weight_decay_rate,\n",
    "    num_warmup_steps = 0,\n",
    ")"
   ]
  },
  {
   "cell_type": "code",
   "execution_count": 39,
   "id": "d409fc07",
   "metadata": {},
   "outputs": [
    {
     "name": "stderr",
     "output_type": "stream",
     "text": [
      "Some layers from the model checkpoint at google/vit-base-patch16-224-in21k were not used when initializing TFViTForImageClassification: ['vit/pooler/dense/bias:0', 'vit/pooler/dense/kernel:0']\n",
      "- This IS expected if you are initializing TFViTForImageClassification from the checkpoint of a model trained on another task or with another architecture (e.g. initializing a BertForSequenceClassification model from a BertForPreTraining model).\n",
      "- This IS NOT expected if you are initializing TFViTForImageClassification from the checkpoint of a model that you expect to be exactly identical (initializing a BertForSequenceClassification model from a BertForSequenceClassification model).\n",
      "Some layers of TFViTForImageClassification were not initialized from the model checkpoint at google/vit-base-patch16-224-in21k and are newly initialized: ['classifier']\n",
      "You should probably TRAIN this model on a down-stream task to be able to use it for predictions and inference.\n"
     ]
    }
   ],
   "source": [
    "model = TFAutoModelForImageClassification.from_pretrained(\n",
    "    checkpoint,\n",
    "    num_labels  = 4\n",
    "    \n",
    ")\n",
    "\n",
    "\n",
    "\n",
    "tf_train_dataset = train_data.to_tf_dataset(\n",
    "    columns =\"pixel_values\", label_cols = \"label\", shuffle=True, batch_size = batch_size, collate_fn = data_collator\n",
    ")\n",
    "\n",
    "tf_eval_dataset = test_data.to_tf_dataset(\n",
    "    columns = \"pixel_values\", label_cols = \"label\", shuffle=True, batch_size = batch_size, collate_fn = data_collator\n",
    ")"
   ]
  },
  {
   "cell_type": "code",
   "execution_count": 40,
   "id": "a735ef8e",
   "metadata": {},
   "outputs": [],
   "source": [
    "loss = tf.keras.losses.SparseCategoricalCrossentropy(from_logits=True)\n",
    "model.compile(optimizer = optimizer, loss=loss)"
   ]
  },
  {
   "cell_type": "code",
   "execution_count": 41,
   "id": "834a4358",
   "metadata": {},
   "outputs": [
    {
     "name": "stderr",
     "output_type": "stream",
     "text": [
      "/Users/stashakkarainen/Desktop/assignment/assignment_part_3 is already a clone of https://huggingface.co/aspends/assignment_part_3. Make sure you pull the latest changes with `repo.git_pull()`.\n"
     ]
    }
   ],
   "source": [
    "from transformers.keras_callbacks import KerasMetricCallback, PushToHubCallback\n",
    "\n",
    "metric_callback = KerasMetricCallback(metric_fn = compute_metrics, eval_dataset=tf_eval_dataset)\n",
    "push_to_hub_callback = PushToHubCallback(\n",
    "    output_dir=\"assignment_part_3\",\n",
    "    tokenizer=image_processor,\n",
    "    save_strategy=\"no\",\n",
    ")\n",
    "callbacks = [metric_callback, push_to_hub_callback]"
   ]
  },
  {
   "cell_type": "code",
   "execution_count": 42,
   "id": "80ff72c8",
   "metadata": {},
   "outputs": [
    {
     "name": "stdout",
     "output_type": "stream",
     "text": [
      "Epoch 1/5\n",
      "100/100 [==============================] - 1020s 10s/step - loss: 0.8768 - val_loss: 0.4404 - accuracy: 0.9387\n",
      "Epoch 2/5\n",
      "100/100 [==============================] - 1004s 10s/step - loss: 0.3198 - val_loss: 0.2664 - accuracy: 0.9475\n",
      "Epoch 3/5\n",
      "100/100 [==============================] - 990s 10s/step - loss: 0.1919 - val_loss: 0.2303 - accuracy: 0.9425\n",
      "Epoch 4/5\n",
      "100/100 [==============================] - 1024s 10s/step - loss: 0.1357 - val_loss: 0.1959 - accuracy: 0.9463\n",
      "Epoch 5/5\n",
      "100/100 [==============================] - 1201s 12s/step - loss: 0.0932 - val_loss: 0.2218 - accuracy: 0.9313\n"
     ]
    },
    {
     "data": {
      "application/vnd.jupyter.widget-view+json": {
       "model_id": "683c0b1548cd45b8999fd8d69a9aa6bc",
       "version_major": 2,
       "version_minor": 0
      },
      "text/plain": [
       "Upload file tf_model.h5:   0%|          | 1.00/328M [00:00<?, ?B/s]"
      ]
     },
     "metadata": {},
     "output_type": "display_data"
    },
    {
     "name": "stderr",
     "output_type": "stream",
     "text": [
      "To https://huggingface.co/aspends/assignment_part_3\n",
      "   3ed80ef..989f064  main -> main\n",
      "\n"
     ]
    },
    {
     "data": {
      "text/plain": [
       "<keras.src.callbacks.History at 0x2c69e5fd0>"
      ]
     },
     "execution_count": 42,
     "metadata": {},
     "output_type": "execute_result"
    }
   ],
   "source": [
    "\n",
    "\n",
    "model.fit(tf_train_dataset, validation_data=tf_eval_dataset, epochs = num_epochs, callbacks = callbacks)"
   ]
  },
  {
   "cell_type": "code",
   "execution_count": 51,
   "id": "48b7bb62",
   "metadata": {},
   "outputs": [],
   "source": [
    "image = test_data[799][\"image\"]"
   ]
  },
  {
   "cell_type": "code",
   "execution_count": 52,
   "id": "49af4f05",
   "metadata": {},
   "outputs": [
    {
     "data": {
      "image/jpeg": "[encoded data removed]",
      "image/png": "[encoded data removed]",
      "text/plain": [
       "<PIL.PngImagePlugin.PngImageFile image mode=RGB size=224x224>"
      ]
     },
     "execution_count": 52,
     "metadata": {},
     "output_type": "execute_result"
    }
   ],
   "source": [
    "image"
   ]
  },
  {
   "cell_type": "code",
   "execution_count": 60,
   "id": "b2fe4443",
   "metadata": {},
   "outputs": [
    {
     "name": "stderr",
     "output_type": "stream",
     "text": [
      "All model checkpoint layers were used when initializing TFViTForImageClassification.\n",
      "\n",
      "All the layers of TFViTForImageClassification were initialized from the model checkpoint at aspends/assignment_part_3.\n",
      "If your task is similar to the task the model of the checkpoint was trained on, you can already use TFViTForImageClassification for predictions without further training.\n"
     ]
    },
    {
     "data": {
      "text/plain": [
       "[{'score': 0.942626416683197, 'label': 'zebra'},\n",
       " {'score': 0.02158680185675621, 'label': 'train'},\n",
       " {'score': 0.018928898498415947, 'label': 'cat'},\n",
       " {'score': 0.016857799142599106, 'label': 'horse'}]"
      ]
     },
     "execution_count": 60,
     "metadata": {},
     "output_type": "execute_result"
    }
   ],
   "source": [
    "from transformers import pipeline\n",
    "\n",
    "classifier = pipeline(\n",
    "    \"image-classification\",\n",
    "    model=\"aspends/assignment_part_3\",\n",
    "    device=0,\n",
    "    framework=\"tf\"\n",
    ")\n",
    "\n",
    "classifier(image)"
   ]
  },
  {
   "cell_type": "code",
   "execution_count": null,
   "id": "56749cdd",
   "metadata": {},
   "outputs": [],
   "source": []
  }
 ],
 "metadata": {
  "celltoolbar": "Raw Cell Format",
  "kernelspec": {
   "display_name": "Python 3 (ipykernel)",
   "language": "python",
   "name": "python3"
  },
  "language_info": {
   "codemirror_mode": {
    "name": "ipython",
    "version": 3
   },
   "file_extension": ".py",
   "mimetype": "text/x-python",
   "name": "python",
   "nbconvert_exporter": "python",
   "pygments_lexer": "ipython3",
   "version": "3.11.1"
  }
 },
 "nbformat": 4,
 "nbformat_minor": 5
}
